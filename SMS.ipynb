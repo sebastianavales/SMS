{
 "cells": [
  {
   "cell_type": "code",
   "execution_count": null,
   "id": "fd383beb",
   "metadata": {},
   "outputs": [],
   "source": [
    "import pandas as pd\n",
    "import numpy as np\n",
    "import matplotlib as plt\n",
    "import seaborn as sns"
   ]
  },
  {
   "attachments": {},
   "cell_type": "markdown",
   "id": "25471df2",
   "metadata": {},
   "source": [
    "# Importación de archivos"
   ]
  },
  {
   "cell_type": "code",
   "execution_count": null,
   "id": "f8a56bb3",
   "metadata": {},
   "outputs": [],
   "source": [
    "reporte = pd.read_csv('ReporteDetalladoSms.csv',sep=',')\n",
    "reporte = pd.DataFrame(reporte)\n",
    "\n",
    "sms = pd.read_excel('SMS Comerciales Informativos.xlsx')\n",
    "sms = pd.DataFrame(sms)\n",
    "\n",
    "email = pd.read_excel('email.xlsx')\n",
    "email = pd.DataFrame(email)"
   ]
  },
  {
   "attachments": {},
   "cell_type": "markdown",
   "id": "0f4ca33e",
   "metadata": {
    "scrolled": false
   },
   "source": [
    "# Manipulación de datos para ReporteDetallado"
   ]
  },
  {
   "cell_type": "code",
   "execution_count": null,
   "id": "76bc1d30",
   "metadata": {},
   "outputs": [],
   "source": [
    "# Filtro según guiones para SMS >= $100.000\n",
    "\n",
    "mayores = reporte.loc[(reporte['Valor'] >= 100000.0)]\n",
    "conditions1 = [(mayores.Mensaje.str.contains('Usted realizo Retiro') | \n",
    "                mayores.Mensaje.str.contains('Usted realizo PSE - Pago productos') |\n",
    "                mayores.Mensaje.str.contains('Usted realizo CNB - Retiro') | \n",
    "                mayores.Mensaje.str.contains('Usted realizo Compra por') |\n",
    "                mayores.Mensaje.str.contains('Usted realizo Transferencia') |\n",
    "                mayores.Mensaje.str.contains('Transfiya')\n",
    "                )]\n",
    "choicelist1 = ['NO']\n",
    "mayores['Facturable'] = np.select(conditions1, choicelist1, default='SI')\n",
    "\n",
    "# Filtro según guiones para SMS < $100.000 e Informativos/Promocionales\n",
    "\n",
    "menores = reporte.loc[(reporte['Valor'] < 100000.0) | (pd.isna(reporte['Valor']) == True )]\n",
    "conditions2 = [(menores.Mensaje.str.contains('OTP') | \n",
    "                menores.Mensaje.str.contains('Usted ha ingresado exitosamente') |\n",
    "                menores.Mensaje.str.contains('Usted se ha registrado exitosamente') |              \n",
    "                menores.Mensaje.str.contains('Codigo') |\n",
    "                menores.Mensaje.str.contains('codigo') |\n",
    "                menores.Mensaje.str.contains('Código') |\n",
    "                menores.Mensaje.str.contains('código') |\n",
    "                menores.Mensaje.str.contains('PIN') |\n",
    "                menores.Mensaje.str.contains('le ha remitido de manera fisica') |\n",
    "                menores.Mensaje.str.contains('Su usuario es')\n",
    "                )]\n",
    "choicelist2 = ['NO']\n",
    "menores['Facturable'] = np.select(conditions2, choicelist2, default='SI')\n",
    "\n",
    "# Concatenación de menores y mayores\n",
    "\n",
    "full = pd.concat([mayores, menores])\n",
    "\n",
    "# Filtro por mensajes que serán Facturables o No Facturables\n",
    "\n",
    "facturables_reporte = full[full['Facturable'] == 'SI']\n",
    "nofacturables_reporte = full[full['Facturable'] == 'NO']\n",
    "\n",
    "# Cálculos para cobro de mensajes por entidad\n",
    "\n",
    "facturables_reporte['Número de mensajes'] = 1\n",
    "facturables_reporte.rename(columns={'Número de mensajes': 'Cantidad SMS'}, inplace=True)\n",
    "facturables_reporte['Valor Unitario'] = 10\n",
    "facturables_reporte['Total'] = facturables_reporte['Cantidad SMS'] * facturables_reporte['Valor Unitario']\n",
    "facturables_reporte['Iva'] = facturables_reporte['Total'] * 0.19\n",
    "facturables_reporte['Total + Iva'] = facturables_reporte['Total'] + facturables_reporte['Iva']\n",
    "facturables_reporte = facturables_reporte.groupby(['Entidad', 'Valor Unitario']).agg({'Cantidad SMS':['count'], 'Total':['sum'], 'Iva':['sum'], 'Total + Iva':['sum']}).reset_index()\n",
    "facturables_reporte = facturables_reporte[['Entidad','Cantidad SMS','Valor Unitario','Total','Iva','Total + Iva']]"
   ]
  },
  {
   "attachments": {},
   "cell_type": "markdown",
   "id": "24aa194d",
   "metadata": {},
   "source": [
    "# Manipulación de datos para SMS"
   ]
  },
  {
   "cell_type": "code",
   "execution_count": null,
   "id": "bb63effc",
   "metadata": {},
   "outputs": [],
   "source": [
    "# Cálculos para cobro de mensajes por entidad\n",
    "\n",
    "sms['Valor Unitario'] = 10\n",
    "sms['Total'] = sms['Cantidad SMS'] * sms['Valor Unitario']\n",
    "sms['Iva'] = sms['Total'] * 0.19\n",
    "sms['Total + Iva'] = sms['Total'] + sms['Iva']"
   ]
  },
  {
   "attachments": {},
   "cell_type": "markdown",
   "id": "29975b29",
   "metadata": {},
   "source": [
    "# Manipulación de datos para Email"
   ]
  },
  {
   "cell_type": "code",
   "execution_count": null,
   "id": "cbc9ea31",
   "metadata": {},
   "outputs": [],
   "source": [
    "# Cálculos para cobro de emails por entidad\n",
    "\n",
    "email['Valor Unitario'] = 5\n",
    "email['Total'] = email['Cantidad email'] * email['Valor Unitario']\n",
    "email['Iva'] = email['Total'] * 0.19\n",
    "email['Total + Iva'] = email['Total'] + email['Iva']"
   ]
  },
  {
   "attachments": {},
   "cell_type": "markdown",
   "id": "a15ebf9e",
   "metadata": {},
   "source": [
    "# Exportación de Informes a Excel"
   ]
  },
  {
   "cell_type": "code",
   "execution_count": null,
   "id": "ba22093d",
   "metadata": {},
   "outputs": [],
   "source": [
    "# Exportación de cada uno de los Informes a hojas independientes del archivo Excel\n",
    "\n",
    "with pd.ExcelWriter('Informe Facturación.xlsx') as writer:\n",
    "    facturables_reporte.to_excel(writer, sheet_name='ReporteDetallado')\n",
    "    sms.to_excel(writer, sheet_name='SMS Comerciales Informativos')\n",
    "    email.to_excel(writer, sheet_name='Email')"
   ]
  }
 ],
 "metadata": {
  "kernelspec": {
   "display_name": "Python 3 (ipykernel)",
   "language": "python",
   "name": "python3"
  },
  "language_info": {
   "codemirror_mode": {
    "name": "ipython",
    "version": 3
   },
   "file_extension": ".py",
   "mimetype": "text/x-python",
   "name": "python",
   "nbconvert_exporter": "python",
   "pygments_lexer": "ipython3",
   "version": "3.9.12"
  }
 },
 "nbformat": 4,
 "nbformat_minor": 5
}
